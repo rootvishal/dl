{
 "cells": [
  {
   "cell_type": "code",
   "execution_count": 1,
   "id": "5391b3bc",
   "metadata": {},
   "outputs": [
    {
     "data": {
      "text/plain": [
       "'\\nBuild the Image classification model by dividing the model into the following fourstages:\\na. Loading and preprocessing the image data\\nb. Defining the model’s architecture\\nc. Training the model\\nd. Estimating the model’s performance\\n'"
      ]
     },
     "execution_count": 1,
     "metadata": {},
     "output_type": "execute_result"
    }
   ],
   "source": [
    "\"\"\"\n",
    "Build the Image classification model by dividing the model into the following fourstages:\n",
    "a. Loading and preprocessing the image data\n",
    "b. Defining the model’s architecture\n",
    "c. Training the model\n",
    "d. Estimating the model’s performance\n",
    "\"\"\""
   ]
  },
  {
   "cell_type": "code",
   "execution_count": 2,
   "id": "7ca12700",
   "metadata": {},
   "outputs": [],
   "source": [
    "# Importing required packages\n",
    "import tensorflow as tf\n",
    "from keras.models import Sequential\n",
    "from keras.layers import Dense,Conv2D, Dropout, Flatten, MaxPooling2D\n",
    "import matplotlib.pyplot as plt\n",
    "import numpy as np"
   ]
  },
  {
   "cell_type": "code",
   "execution_count": 3,
   "id": "575ebf88",
   "metadata": {},
   "outputs": [],
   "source": [
    "# a. Loading and preprocessing the image data\n",
    "\n",
    "mnist=tf.keras.datasets.mnist\n",
    "# Splitting into training and testing data\n",
    "(x_train,y_train),(x_test,y_test) = mnist.load_data()\n",
    "input_shape = (28,28,1)\n"
   ]
  },
  {
   "cell_type": "code",
   "execution_count": 4,
   "id": "0928fb57",
   "metadata": {},
   "outputs": [],
   "source": [
    "# Making sure that the values are float so that we can getdecimal points after division\n",
    "x_train = x_train.reshape(x_train.shape[0], 28, 28, 1)\n",
    "x_test = x_test.reshape(x_test.shape[0], 28, 28, 1)"
   ]
  },
  {
   "cell_type": "code",
   "execution_count": 5,
   "id": "81ac2221",
   "metadata": {},
   "outputs": [],
   "source": [
    "# print(\"Data type of x_train:\", x_train.dtype)\n",
    "x_train = x_train.astype('float32')\n",
    "x_test = x_test.astype('float32')\n",
    "# print(\"Data type after converting to float:\", x_train.dtype)"
   ]
  },
  {
   "cell_type": "code",
   "execution_count": 6,
   "id": "21808ec4",
   "metadata": {},
   "outputs": [
    {
     "name": "stdout",
     "output_type": "stream",
     "text": [
      "Shape of training :  (60000, 28, 28, 1)\n",
      "Shape of testing :  (10000, 28, 28, 1)\n"
     ]
    }
   ],
   "source": [
    "# Normalizing the RGB codes by divinding it into the max RGB value.\n",
    "x_train = x_train / 255\n",
    "x_test = x_test / 255\n",
    "print(\"Shape of training : \", x_train.shape)\n",
    "print(\"Shape of testing : \", x_test.shape)\n"
   ]
  },
  {
   "cell_type": "code",
   "execution_count": 7,
   "id": "029c96fa",
   "metadata": {},
   "outputs": [
    {
     "name": "stdout",
     "output_type": "stream",
     "text": [
      "Model: \"sequential\"\n",
      "_________________________________________________________________\n",
      " Layer (type)                Output Shape              Param #   \n",
      "=================================================================\n",
      " conv2d (Conv2D)             (None, 26, 26, 28)        280       \n",
      "                                                                 \n",
      " max_pooling2d (MaxPooling2  (None, 13, 13, 28)        0         \n",
      " D)                                                              \n",
      "                                                                 \n",
      " flatten (Flatten)           (None, 4732)              0         \n",
      "                                                                 \n",
      " dense (Dense)               (None, 200)               946600    \n",
      "                                                                 \n",
      " dropout (Dropout)           (None, 200)               0         \n",
      "                                                                 \n",
      " dense_1 (Dense)             (None, 10)                2010      \n",
      "                                                                 \n",
      "=================================================================\n",
      "Total params: 948890 (3.62 MB)\n",
      "Trainable params: 948890 (3.62 MB)\n",
      "Non-trainable params: 0 (0.00 Byte)\n",
      "_________________________________________________________________\n"
     ]
    }
   ],
   "source": [
    "# b. Defining the model’s architecture\n",
    "model = Sequential()\n",
    "model.add(Conv2D(28, kernel_size=(3,3), input_shape=input_shape))\n",
    "model.add(MaxPooling2D(pool_size=(2,2)))\n",
    "model.add(Flatten())\n",
    "model.add(Dense(200,activation = \"relu\"))\n",
    "model.add(Dropout(0.3))\n",
    "\n",
    "model.add(Dense(10,activation = \"softmax\"))\n",
    "model.summary()"
   ]
  },
  {
   "cell_type": "code",
   "execution_count": 8,
   "id": "f0ff8eac",
   "metadata": {},
   "outputs": [
    {
     "name": "stdout",
     "output_type": "stream",
     "text": [
      "Epoch 1/2\n",
      "1875/1875 [==============================] - 54s 28ms/step - loss: 0.1965 - accuracy: 0.9409\n",
      "Epoch 2/2\n",
      "1875/1875 [==============================] - 54s 29ms/step - loss: 0.0784 - accuracy: 0.9759\n"
     ]
    },
    {
     "data": {
      "text/plain": [
       "<keras.src.callbacks.History at 0x1e70ac37290>"
      ]
     },
     "execution_count": 8,
     "metadata": {},
     "output_type": "execute_result"
    }
   ],
   "source": [
    "# c. Training the model\n",
    "model.compile(optimizer=\"adam\",\n",
    "loss=\"sparse_categorical_crossentropy\",metrics=['accuracy'])\n",
    "model.fit(x_train,y_train,epochs=2)"
   ]
  },
  {
   "cell_type": "code",
   "execution_count": 9,
   "id": "06e2bbab",
   "metadata": {},
   "outputs": [
    {
     "name": "stdout",
     "output_type": "stream",
     "text": [
      "313/313 [==============================] - 2s 5ms/step - loss: 0.0583 - accuracy: 0.9808\n",
      "Loss=0.058\n",
      "Accuracy=0.981\n"
     ]
    }
   ],
   "source": [
    "# d. Estimating the model’s performance\n",
    "test_loss, test_acc = model.evaluate(x_test, y_test)\n",
    "print(\"Loss=%.3f\" %test_loss)\n",
    "print(\"Accuracy=%.3f\" %test_acc)\n"
   ]
  },
  {
   "cell_type": "code",
   "execution_count": 10,
   "id": "fea8e0b8",
   "metadata": {},
   "outputs": [
    {
     "data": {
      "image/png": "[encoded data removed]",
      "text/plain": [
       "<Figure size 640x480 with 1 Axes>"
      ]
     },
     "metadata": {},
     "output_type": "display_data"
    }
   ],
   "source": [
    "# Showing image at positions[] from dataset: \n",
    "image = x_train[5]\n",
    "plt.imshow(np.squeeze(image), cmap='gray')\n",
    "plt.show()"
   ]
  },
  {
   "cell_type": "code",
   "execution_count": 11,
   "id": "e3f2368f",
   "metadata": {},
   "outputs": [
    {
     "name": "stdout",
     "output_type": "stream",
     "text": [
      "1/1 [==============================] - 0s 94ms/step\n",
      "Predicted class 2:\n"
     ]
    }
   ],
   "source": [
    "# Predicting the class of image :\n",
    "image = image.reshape(1, image.shape[0], image.shape[1], image.shape[2])\n",
    "predict_model = model.predict([image])\n",
    "print(\"Predicted class {}:\" .format(np.argmax(predict_model)))"
   ]
  },
  {
   "cell_type": "code",
   "execution_count": null,
   "id": "324eb246",
   "metadata": {},
   "outputs": [],
   "source": []
  }
 ],
 "metadata": {
  "kernelspec": {
   "display_name": "Python 3 (ipykernel)",
   "language": "python",
   "name": "python3"
  },
  "language_info": {
   "codemirror_mode": {
    "name": "ipython",
    "version": 3
   },
   "file_extension": ".py",
   "mimetype": "text/x-python",
   "name": "python",
   "nbconvert_exporter": "python",
   "pygments_lexer": "ipython3",
   "version": "3.11.4"
  }
 },
 "nbformat": 4,
 "nbformat_minor": 5
}
